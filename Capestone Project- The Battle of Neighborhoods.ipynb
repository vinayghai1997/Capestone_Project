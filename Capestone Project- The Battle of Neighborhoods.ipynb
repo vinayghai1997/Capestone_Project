{
    "cells": [
        {
            "metadata": {
                "collapsed": true
            },
            "cell_type": "markdown",
            "source": "<h1>Introduction<h1>"
        },
        {
            "metadata": {},
            "cell_type": "markdown",
            "source": "We will be comparing two cities in my project Delhi and Mumbai."
        },
        {
            "metadata": {},
            "cell_type": "markdown",
            "source": "Delhi and Mumbai are compltely diffrent cities when it comes to culture, living and economy. Delhi is capital of India whereas Mumbai is Economic capital of  India."
        },
        {
            "metadata": {},
            "cell_type": "markdown",
            "source": "First problem  \nMoving from one city from other city is quite difficult but we always try to find best place to live. We will be finding something suitable for my friend who is just moving from delhi to mumbai. As he recommended few things like parks, shopping malls and coffee shops as necessary elememts.   \n"
        },
        {
            "metadata": {},
            "cell_type": "markdown",
            "source": "Second Problem  \nIf we want to start a hotel buisness in mumbai or delhi. Which Place will be best for this buisness?"
        }
    ],
    "metadata": {
        "kernelspec": {
            "name": "python3",
            "display_name": "Python 3.6",
            "language": "python"
        },
        "language_info": {
            "name": "python",
            "version": "3.6.9",
            "mimetype": "text/x-python",
            "codemirror_mode": {
                "name": "ipython",
                "version": 3
            },
            "pygments_lexer": "ipython3",
            "nbconvert_exporter": "python",
            "file_extension": ".py"
        }
    },
    "nbformat": 4,
    "nbformat_minor": 1
}